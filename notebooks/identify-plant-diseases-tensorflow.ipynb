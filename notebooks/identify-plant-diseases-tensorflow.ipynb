{
 "cells": [
  {
   "cell_type": "markdown",
   "id": "ideal-helena",
   "metadata": {
    "papermill": {
     "duration": 0.013507,
     "end_time": "2021-04-01T06:32:37.458956",
     "exception": false,
     "start_time": "2021-04-01T06:32:37.445449",
     "status": "completed"
    },
    "tags": []
   },
   "source": [
    "# Plant Disease Classification using Mobilenet\n",
    "\n",
    "We use the PlantVillage dataset by Hughes et al. consists of about 87,000 healthy and unhealthy leaf images divided into 38 categories by species and disease. Here we provide a subset of our experiments on working with this data. We also end up transfer learning from MobileNet and use the weights from pre-training on ImageNet.\n",
    "\n",
    "* ![PlantVillage Dataset Samples](https://i.imgur.com/Zcxdrlc.png)\n",
    "Figure 1. PlantVillage Dataset Samples\n",
    "\n",
    "## Classes\n",
    "\n",
    "The following 38 classes are availaible in the dataset\n",
    "\n",
    "- `Apple___Apple_scab` \n",
    "- `Apple___Black_rot` \n",
    "- `Apple___Cedar_apple_rust` \n",
    "- `Apple___healthy` \n",
    "- `Blueberry___healthy` \n",
    "- `Cherry_(including_sour)___Powdery_mildew` \n",
    "- `Cherry_(including_sour)___healthy` \n",
    "- `Corn_(maize)___Cercospora_leaf_spot Gray_leaf_spot` \n",
    "- `Corn_(maize)___Common_rust_` \n",
    "- `Corn_(maize)___Northern_Leaf_Blight` \n",
    "- `Corn_(maize)___healthy', 'Grape___Black_rot` \n",
    "- `Grape___Leaf_blight_(Isariopsis_Leaf_Spot)` \n",
    "- `Grape___healthy` \n",
    "- `Orange___Haunglongbing_(Citrus_greening)` \n",
    "- `Peach___Bacterial_spot` \n",
    "- `Peach___healthy` \n",
    "- `Pepper,_bell___Bacterial_spot` \n",
    "- `Pepper,_bell___healthy` \n",
    "- `Potato___Early_blight` \n",
    "- `Potato___Late_blight` \n",
    "- `Potato___healthy` \n",
    "- `Raspberry___healthy` \n",
    "- `Soybean___healthy` \n",
    "- `Squash___Powdery_mildew` \n",
    "- `Strawberry___Leaf_scorch` \n",
    "- `Strawberry___healthy` \n",
    "- `Tomato___Bacterial_spot` \n",
    "- `Tomato___Late_blight` \n",
    "- `Tomato___Leaf_Mold` \n",
    "- `Tomato___Septoria_leaf_spot` \n",
    "- `Tomato___Spider_mites Two-spotted_spider_mite` \n",
    "- `Tomato___Target_Spot` \n",
    "- `Tomato___Tomato_Yellow_Leaf_Curl_Virus` \n",
    "- `Tomato___Tomato_mosaic_virus` \n",
    "- `Tomato___healthy`\n",
    "\n",
    "## References\n",
    "\n",
    "[1] Hughes, David P., and Marcel Salathe. “An Open Access Repository of Images on Plant Health to Enable the Development of Mobile Disease Diagnostics.” ArXiv:1511.08060 [Cs], Apr. 2016. arXiv.org, http://arxiv.org/abs/1511.08060.\n",
    "\n",
    "[2] Howard, Andrew G., et al. “MobileNets: Efficient Convolutional Neural Networks for Mobile Vision Applications.” ArXiv:1704.04861 [Cs], Apr. 2017. arXiv.org, http://arxiv.org/abs/1704.04861.\n"
   ]
  },
  {
   "cell_type": "markdown",
   "id": "growing-distribution",
   "metadata": {
    "papermill": {
     "duration": 0.013476,
     "end_time": "2021-04-01T06:32:37.486199",
     "exception": false,
     "start_time": "2021-04-01T06:32:37.472723",
     "status": "completed"
    },
    "tags": []
   },
   "source": [
    "## Setup"
   ]
  },
  {
   "cell_type": "code",
   "execution_count": 2,
   "id": "straight-wallet",
   "metadata": {
    "execution": {
     "iopub.execute_input": "2021-04-01T06:32:37.518083Z",
     "iopub.status.busy": "2021-04-01T06:32:37.517537Z",
     "iopub.status.idle": "2021-04-01T06:32:42.426723Z",
     "shell.execute_reply": "2021-04-01T06:32:42.425655Z"
    },
    "papermill": {
     "duration": 4.927047,
     "end_time": "2021-04-01T06:32:42.426903",
     "exception": false,
     "start_time": "2021-04-01T06:32:37.499856",
     "status": "completed"
    },
    "tags": []
   },
   "outputs": [],
   "source": [
    "import tensorflow as tf\n",
    "from tensorflow import keras\n",
    "\n",
    "import matplotlib.pyplot as plt\n",
    "import numpy as np\n",
    "import torch \n",
    "import os"
   ]
  },
  {
   "cell_type": "code",
   "execution_count": 3,
   "id": "civic-longer",
   "metadata": {
    "execution": {
     "iopub.execute_input": "2021-04-01T06:32:42.460451Z",
     "iopub.status.busy": "2021-04-01T06:32:42.458690Z",
     "iopub.status.idle": "2021-04-01T06:32:42.461019Z",
     "shell.execute_reply": "2021-04-01T06:32:42.461420Z"
    },
    "papermill": {
     "duration": 0.020613,
     "end_time": "2021-04-01T06:32:42.461544",
     "exception": false,
     "start_time": "2021-04-01T06:32:42.440931",
     "status": "completed"
    },
    "tags": []
   },
   "outputs": [],
   "source": [
    "image_size = 224\n",
    "target_size = (image_size, image_size)\n",
    "input_shape = (image_size, image_size, 3)\n",
    "\n",
    "batch_size = 32\n",
    "epochs = 25"
   ]
  },
  {
   "cell_type": "markdown",
   "id": "fifty-arabic",
   "metadata": {
    "papermill": {
     "duration": 0.014855,
     "end_time": "2021-04-01T06:32:42.490203",
     "exception": false,
     "start_time": "2021-04-01T06:32:42.475348",
     "status": "completed"
    },
    "tags": []
   },
   "source": [
    "\n",
    "In order to make the most of our few training examples, we will \"augment\" them via a number of random transformations, so that our model would never see twice the exact same picture. This helps prevent overfitting and helps the model generalize better."
   ]
  },
  {
   "cell_type": "code",
   "execution_count": 4,
   "id": "million-season",
   "metadata": {
    "execution": {
     "iopub.execute_input": "2021-04-01T06:32:42.523502Z",
     "iopub.status.busy": "2021-04-01T06:32:42.521744Z",
     "iopub.status.idle": "2021-04-01T06:32:42.524127Z",
     "shell.execute_reply": "2021-04-01T06:32:42.524651Z"
    },
    "papermill": {
     "duration": 0.020753,
     "end_time": "2021-04-01T06:32:42.524791",
     "exception": false,
     "start_time": "2021-04-01T06:32:42.504038",
     "status": "completed"
    },
    "tags": []
   },
   "outputs": [],
   "source": [
    "base_dir = \"../input/new-plant-diseases-dataset/new plant diseases dataset(augmented)/New Plant Diseases Dataset(Augmented)\"\n",
    "train_dir = os.path.join(base_dir,\"train\")\n",
    "test_dir = os.path.join(base_dir,\"valid\")"
   ]
  },
  {
   "cell_type": "code",
   "execution_count": 5,
   "id": "compressed-liability",
   "metadata": {
    "execution": {
     "iopub.execute_input": "2021-04-01T06:32:42.585572Z",
     "iopub.status.busy": "2021-04-01T06:32:42.585082Z",
     "iopub.status.idle": "2021-04-01T06:32:42.588644Z",
     "shell.execute_reply": "2021-04-01T06:32:42.588137Z"
    },
    "papermill": {
     "duration": 0.021833,
     "end_time": "2021-04-01T06:32:42.588752",
     "exception": false,
     "start_time": "2021-04-01T06:32:42.566919",
     "status": "completed"
    },
    "tags": []
   },
   "outputs": [],
   "source": [
    "train_datagen = keras.preprocessing.image.ImageDataGenerator(rescale = 1/255.0,\n",
    "                                                             shear_range = 0.2,\n",
    "                                                             zoom_range = 0.2,\n",
    "                                                             width_shift_range = 0.2,\n",
    "                                                             height_shift_range = 0.2,\n",
    "                                                             fill_mode=\"nearest\")\n",
    "\n",
    "test_datagen = keras.preprocessing.image.ImageDataGenerator(rescale = 1/255.0)"
   ]
  },
  {
   "cell_type": "markdown",
   "id": "established-jordan",
   "metadata": {
    "papermill": {
     "duration": 0.013875,
     "end_time": "2021-04-01T06:32:42.616790",
     "exception": false,
     "start_time": "2021-04-01T06:32:42.602915",
     "status": "completed"
    },
    "tags": []
   },
   "source": [
    "We will use `.flow_from_directory()` to generate batches of image data (and their labels) directly from our images in their respective folders."
   ]
  },
  {
   "cell_type": "code",
   "execution_count": 6,
   "id": "internal-chinese",
   "metadata": {
    "execution": {
     "iopub.execute_input": "2021-04-01T06:32:42.649149Z",
     "iopub.status.busy": "2021-04-01T06:32:42.648568Z",
     "iopub.status.idle": "2021-04-01T06:33:19.141879Z",
     "shell.execute_reply": "2021-04-01T06:33:19.142278Z"
    },
    "papermill": {
     "duration": 36.511532,
     "end_time": "2021-04-01T06:33:19.142443",
     "exception": false,
     "start_time": "2021-04-01T06:32:42.630911",
     "status": "completed"
    },
    "tags": []
   },
   "outputs": [
    {
     "name": "stdout",
     "output_type": "stream",
     "text": [
      "Found 70295 images belonging to 38 classes.\n",
      "Found 17572 images belonging to 38 classes.\n"
     ]
    }
   ],
   "source": [
    "train_data = train_datagen.flow_from_directory(train_dir,\n",
    "                                               target_size = (image_size, image_size),\n",
    "                                               batch_size = batch_size,\n",
    "                                               class_mode = \"categorical\")\n",
    "\n",
    "test_data = test_datagen.flow_from_directory(test_dir,\n",
    "                                             target_size = (image_size, image_size),\n",
    "                                             batch_size = batch_size,\n",
    "                                             class_mode = \"categorical\")"
   ]
  },
  {
   "cell_type": "code",
   "execution_count": 7,
   "id": "tender-shell",
   "metadata": {
    "execution": {
     "iopub.execute_input": "2021-04-01T06:33:19.207386Z",
     "iopub.status.busy": "2021-04-01T06:33:19.206622Z",
     "iopub.status.idle": "2021-04-01T06:33:19.210255Z",
     "shell.execute_reply": "2021-04-01T06:33:19.210943Z"
    },
    "papermill": {
     "duration": 0.023207,
     "end_time": "2021-04-01T06:33:19.211115",
     "exception": false,
     "start_time": "2021-04-01T06:33:19.187908",
     "status": "completed"
    },
    "tags": []
   },
   "outputs": [
    {
     "name": "stdout",
     "output_type": "stream",
     "text": [
      "{'Apple___Apple_scab': 0, 'Apple___Black_rot': 1, 'Apple___Cedar_apple_rust': 2, 'Apple___healthy': 3, 'Blueberry___healthy': 4, 'Cherry_(including_sour)___Powdery_mildew': 5, 'Cherry_(including_sour)___healthy': 6, 'Corn_(maize)___Cercospora_leaf_spot Gray_leaf_spot': 7, 'Corn_(maize)___Common_rust_': 8, 'Corn_(maize)___Northern_Leaf_Blight': 9, 'Corn_(maize)___healthy': 10, 'Grape___Black_rot': 11, 'Grape___Esca_(Black_Measles)': 12, 'Grape___Leaf_blight_(Isariopsis_Leaf_Spot)': 13, 'Grape___healthy': 14, 'Orange___Haunglongbing_(Citrus_greening)': 15, 'Peach___Bacterial_spot': 16, 'Peach___healthy': 17, 'Pepper,_bell___Bacterial_spot': 18, 'Pepper,_bell___healthy': 19, 'Potato___Early_blight': 20, 'Potato___Late_blight': 21, 'Potato___healthy': 22, 'Raspberry___healthy': 23, 'Soybean___healthy': 24, 'Squash___Powdery_mildew': 25, 'Strawberry___Leaf_scorch': 26, 'Strawberry___healthy': 27, 'Tomato___Bacterial_spot': 28, 'Tomato___Early_blight': 29, 'Tomato___Late_blight': 30, 'Tomato___Leaf_Mold': 31, 'Tomato___Septoria_leaf_spot': 32, 'Tomato___Spider_mites Two-spotted_spider_mite': 33, 'Tomato___Target_Spot': 34, 'Tomato___Tomato_Yellow_Leaf_Curl_Virus': 35, 'Tomato___Tomato_mosaic_virus': 36, 'Tomato___healthy': 37}\n"
     ]
    }
   ],
   "source": [
    "categories = list(train_data.class_indices.keys())\n",
    "print(train_data.class_indices)"
   ]
  },
  {
   "cell_type": "code",
   "execution_count": 8,
   "id": "palestinian-intermediate",
   "metadata": {
    "execution": {
     "iopub.execute_input": "2021-04-01T06:33:19.247158Z",
     "iopub.status.busy": "2021-04-01T06:33:19.246266Z",
     "iopub.status.idle": "2021-04-01T06:33:19.253442Z",
     "shell.execute_reply": "2021-04-01T06:33:19.253035Z"
    },
    "papermill": {
     "duration": 0.026322,
     "end_time": "2021-04-01T06:33:19.253546",
     "exception": false,
     "start_time": "2021-04-01T06:33:19.227224",
     "status": "completed"
    },
    "tags": []
   },
   "outputs": [
    {
     "data": {
      "text/html": [
       "<a href='class_indices.json' target='_blank'>class_indices.json</a><br>"
      ],
      "text/plain": [
       "/kaggle/working/class_indices.json"
      ]
     },
     "execution_count": 8,
     "metadata": {},
     "output_type": "execute_result"
    }
   ],
   "source": [
    "import json\n",
    "with open('class_indices.json','w') as f:\n",
    "  json.dump(train_data.class_indices, f)\n",
    "\n",
    "from IPython.display import FileLink\n",
    "FileLink(r'class_indices.json')"
   ]
  },
  {
   "cell_type": "markdown",
   "id": "perceived-diana",
   "metadata": {
    "papermill": {
     "duration": 0.015404,
     "end_time": "2021-04-01T06:33:19.284789",
     "exception": false,
     "start_time": "2021-04-01T06:33:19.269385",
     "status": "completed"
    },
    "tags": []
   },
   "source": [
    "## Training\n",
    "\n",
    "We first get the base MobileNet model without including the top layers since we want to use it for 38 classes and us the pre-trained weights for ImageNet."
   ]
  },
  {
   "cell_type": "code",
   "execution_count": 9,
   "id": "medieval-belief",
   "metadata": {
    "execution": {
     "iopub.execute_input": "2021-04-01T06:33:19.322956Z",
     "iopub.status.busy": "2021-04-01T06:33:19.322448Z",
     "iopub.status.idle": "2021-04-01T06:33:23.261749Z",
     "shell.execute_reply": "2021-04-01T06:33:23.260417Z"
    },
    "papermill": {
     "duration": 3.961398,
     "end_time": "2021-04-01T06:33:23.261913",
     "exception": false,
     "start_time": "2021-04-01T06:33:19.300515",
     "status": "completed"
    },
    "tags": []
   },
   "outputs": [
    {
     "name": "stdout",
     "output_type": "stream",
     "text": [
      "Downloading data from https://storage.googleapis.com/tensorflow/keras-applications/mobilenet/mobilenet_1_0_224_tf_no_top.h5\n",
      "17227776/17225924 [==============================] - 0s 0us/step\n"
     ]
    }
   ],
   "source": [
    "base_model = tf.keras.applications.MobileNet(weights = \"imagenet\",\n",
    "                                             include_top = False,\n",
    "                                             input_shape = input_shape)\n",
    "\n",
    "base_model.trainable = False"
   ]
  },
  {
   "cell_type": "code",
   "execution_count": 10,
   "id": "classical-cross",
   "metadata": {
    "execution": {
     "iopub.execute_input": "2021-04-01T06:33:23.339572Z",
     "iopub.status.busy": "2021-04-01T06:33:23.338783Z",
     "iopub.status.idle": "2021-04-01T06:33:23.517062Z",
     "shell.execute_reply": "2021-04-01T06:33:23.516617Z"
    },
    "papermill": {
     "duration": 0.202453,
     "end_time": "2021-04-01T06:33:23.517183",
     "exception": false,
     "start_time": "2021-04-01T06:33:23.314730",
     "status": "completed"
    },
    "tags": []
   },
   "outputs": [],
   "source": [
    "inputs = keras.Input(shape = input_shape)\n",
    "\n",
    "x = base_model(inputs, training = False)\n",
    "x = tf.keras.layers.GlobalAveragePooling2D()(x)\n",
    "x = tf.keras.layers.Dropout(0.2)(x)\n",
    "x = tf.keras.layers.Dense(len(categories), \n",
    "                          activation=\"softmax\")(x)\n",
    "\n",
    "model = keras.Model(inputs = inputs, \n",
    "                    outputs = x, \n",
    "                    name=\"LeafDisease_MobileNet\")"
   ]
  },
  {
   "cell_type": "markdown",
   "id": "standing-citation",
   "metadata": {
    "papermill": {
     "duration": 0.017726,
     "end_time": "2021-04-01T06:33:23.552336",
     "exception": false,
     "start_time": "2021-04-01T06:33:23.534610",
     "status": "completed"
    },
    "tags": []
   },
   "source": [
    "In our multiple experiments we found out Adam optimizer to work really well with it's default learning rate, $\\beta_1$, $\\beta_2$ and $\\epsilon$ values"
   ]
  },
  {
   "cell_type": "code",
   "execution_count": 11,
   "id": "ancient-performer",
   "metadata": {
    "execution": {
     "iopub.execute_input": "2021-04-01T06:33:23.597770Z",
     "iopub.status.busy": "2021-04-01T06:33:23.596993Z",
     "iopub.status.idle": "2021-04-01T06:33:23.610996Z",
     "shell.execute_reply": "2021-04-01T06:33:23.610579Z"
    },
    "papermill": {
     "duration": 0.041429,
     "end_time": "2021-04-01T06:33:23.611102",
     "exception": false,
     "start_time": "2021-04-01T06:33:23.569673",
     "status": "completed"
    },
    "tags": []
   },
   "outputs": [],
   "source": [
    "optimizer = tf.keras.optimizers.Adam()\n",
    "\n",
    "model.compile(optimizer = optimizer,\n",
    "              loss = tf.keras.losses.CategoricalCrossentropy(from_logits = True),\n",
    "              metrics=[keras.metrics.CategoricalAccuracy(), \n",
    "                       'accuracy'])"
   ]
  },
  {
   "cell_type": "code",
   "execution_count": 12,
   "id": "suspended-concept",
   "metadata": {
    "execution": {
     "iopub.execute_input": "2021-04-01T06:33:23.649937Z",
     "iopub.status.busy": "2021-04-01T06:33:23.649431Z",
     "iopub.status.idle": "2021-04-01T07:03:49.179361Z",
     "shell.execute_reply": "2021-04-01T07:03:49.179930Z"
    },
    "papermill": {
     "duration": 1825.551809,
     "end_time": "2021-04-01T07:03:49.180088",
     "exception": false,
     "start_time": "2021-04-01T06:33:23.628279",
     "status": "completed"
    },
    "tags": []
   },
   "outputs": [
    {
     "name": "stdout",
     "output_type": "stream",
     "text": [
      "Epoch 1/25\n",
      "150/150 [==============================] - 91s 579ms/step - loss: 2.8783 - categorical_accuracy: 0.2731 - accuracy: 0.2731 - val_loss: 0.7801 - val_categorical_accuracy: 0.8100 - val_accuracy: 0.8100\n",
      "Epoch 2/25\n",
      "150/150 [==============================] - 84s 559ms/step - loss: 0.8413 - categorical_accuracy: 0.7645 - accuracy: 0.7645 - val_loss: 0.5293 - val_categorical_accuracy: 0.8525 - val_accuracy: 0.8525\n",
      "Epoch 3/25\n",
      "150/150 [==============================] - 82s 550ms/step - loss: 0.6038 - categorical_accuracy: 0.8283 - accuracy: 0.8283 - val_loss: 0.4226 - val_categorical_accuracy: 0.8784 - val_accuracy: 0.8784\n",
      "Epoch 4/25\n",
      "150/150 [==============================] - 81s 537ms/step - loss: 0.5009 - categorical_accuracy: 0.8478 - accuracy: 0.8478 - val_loss: 0.3407 - val_categorical_accuracy: 0.9034 - val_accuracy: 0.9034\n",
      "Epoch 5/25\n",
      "150/150 [==============================] - 79s 525ms/step - loss: 0.4027 - categorical_accuracy: 0.8854 - accuracy: 0.8854 - val_loss: 0.2900 - val_categorical_accuracy: 0.9172 - val_accuracy: 0.9172\n",
      "Epoch 6/25\n",
      "150/150 [==============================] - 77s 513ms/step - loss: 0.3815 - categorical_accuracy: 0.8812 - accuracy: 0.8812 - val_loss: 0.2775 - val_categorical_accuracy: 0.9141 - val_accuracy: 0.9141\n",
      "Epoch 7/25\n",
      "150/150 [==============================] - 75s 502ms/step - loss: 0.3383 - categorical_accuracy: 0.8976 - accuracy: 0.8976 - val_loss: 0.2526 - val_categorical_accuracy: 0.9219 - val_accuracy: 0.9219\n",
      "Epoch 8/25\n",
      "150/150 [==============================] - 74s 496ms/step - loss: 0.3326 - categorical_accuracy: 0.8919 - accuracy: 0.8919 - val_loss: 0.2477 - val_categorical_accuracy: 0.9181 - val_accuracy: 0.9181\n",
      "Epoch 9/25\n",
      "150/150 [==============================] - 73s 487ms/step - loss: 0.2762 - categorical_accuracy: 0.9150 - accuracy: 0.9150 - val_loss: 0.2097 - val_categorical_accuracy: 0.9322 - val_accuracy: 0.9322\n",
      "Epoch 10/25\n",
      "150/150 [==============================] - 72s 482ms/step - loss: 0.2832 - categorical_accuracy: 0.9132 - accuracy: 0.9132 - val_loss: 0.1977 - val_categorical_accuracy: 0.9406 - val_accuracy: 0.9406\n",
      "Epoch 11/25\n",
      "150/150 [==============================] - 72s 481ms/step - loss: 0.2724 - categorical_accuracy: 0.9135 - accuracy: 0.9135 - val_loss: 0.2016 - val_categorical_accuracy: 0.9341 - val_accuracy: 0.9341\n",
      "Epoch 12/25\n",
      "150/150 [==============================] - 71s 474ms/step - loss: 0.2794 - categorical_accuracy: 0.9061 - accuracy: 0.9061 - val_loss: 0.1772 - val_categorical_accuracy: 0.9403 - val_accuracy: 0.9403\n",
      "Epoch 13/25\n",
      "150/150 [==============================] - 71s 472ms/step - loss: 0.2651 - categorical_accuracy: 0.9136 - accuracy: 0.9136 - val_loss: 0.1962 - val_categorical_accuracy: 0.9341 - val_accuracy: 0.9341\n",
      "Epoch 14/25\n",
      "150/150 [==============================] - 70s 468ms/step - loss: 0.2542 - categorical_accuracy: 0.9206 - accuracy: 0.9206 - val_loss: 0.1962 - val_categorical_accuracy: 0.9344 - val_accuracy: 0.9344\n",
      "Epoch 15/25\n",
      "150/150 [==============================] - 70s 463ms/step - loss: 0.2663 - categorical_accuracy: 0.9128 - accuracy: 0.9128 - val_loss: 0.2017 - val_categorical_accuracy: 0.9341 - val_accuracy: 0.9341\n",
      "Epoch 16/25\n",
      "150/150 [==============================] - 69s 458ms/step - loss: 0.2630 - categorical_accuracy: 0.9215 - accuracy: 0.9215 - val_loss: 0.1586 - val_categorical_accuracy: 0.9528 - val_accuracy: 0.9528\n",
      "Epoch 17/25\n",
      "150/150 [==============================] - 69s 459ms/step - loss: 0.2630 - categorical_accuracy: 0.9147 - accuracy: 0.9147 - val_loss: 0.1686 - val_categorical_accuracy: 0.9425 - val_accuracy: 0.9425\n",
      "Epoch 18/25\n",
      "150/150 [==============================] - 68s 453ms/step - loss: 0.2163 - categorical_accuracy: 0.9298 - accuracy: 0.9298 - val_loss: 0.1667 - val_categorical_accuracy: 0.9469 - val_accuracy: 0.9469\n",
      "Epoch 19/25\n",
      "150/150 [==============================] - 69s 456ms/step - loss: 0.2111 - categorical_accuracy: 0.9341 - accuracy: 0.9341 - val_loss: 0.1803 - val_categorical_accuracy: 0.9378 - val_accuracy: 0.9378\n",
      "Epoch 20/25\n",
      "150/150 [==============================] - 68s 451ms/step - loss: 0.2231 - categorical_accuracy: 0.9247 - accuracy: 0.9247 - val_loss: 0.1654 - val_categorical_accuracy: 0.9497 - val_accuracy: 0.9497\n",
      "Epoch 21/25\n",
      "150/150 [==============================] - 68s 447ms/step - loss: 0.2338 - categorical_accuracy: 0.9256 - accuracy: 0.9256 - val_loss: 0.1617 - val_categorical_accuracy: 0.9491 - val_accuracy: 0.9491\n",
      "Epoch 22/25\n",
      "150/150 [==============================] - 67s 444ms/step - loss: 0.2048 - categorical_accuracy: 0.9329 - accuracy: 0.9329 - val_loss: 0.1445 - val_categorical_accuracy: 0.9547 - val_accuracy: 0.9547\n",
      "Epoch 23/25\n",
      "150/150 [==============================] - 68s 453ms/step - loss: 0.2256 - categorical_accuracy: 0.9311 - accuracy: 0.9311 - val_loss: 0.1472 - val_categorical_accuracy: 0.9503 - val_accuracy: 0.9503\n",
      "Epoch 24/25\n",
      "150/150 [==============================] - 68s 451ms/step - loss: 0.2245 - categorical_accuracy: 0.9219 - accuracy: 0.9219 - val_loss: 0.1393 - val_categorical_accuracy: 0.9531 - val_accuracy: 0.9531\n",
      "Epoch 25/25\n",
      "150/150 [==============================] - 68s 451ms/step - loss: 0.1992 - categorical_accuracy: 0.9352 - accuracy: 0.9352 - val_loss: 0.1498 - val_categorical_accuracy: 0.9506 - val_accuracy: 0.9506\n"
     ]
    }
   ],
   "source": [
    "history = model.fit(train_data,\n",
    "                    validation_data=test_data,\n",
    "                    epochs=epochs,\n",
    "                    steps_per_epoch=150,\n",
    "                    validation_steps=100)"
   ]
  },
  {
   "cell_type": "markdown",
   "id": "cloudy-possibility",
   "metadata": {
    "papermill": {
     "duration": 1.236864,
     "end_time": "2021-04-01T07:03:51.393895",
     "exception": false,
     "start_time": "2021-04-01T07:03:50.157031",
     "status": "completed"
    },
    "tags": []
   },
   "source": [
    "## Review the training process"
   ]
  },
  {
   "cell_type": "code",
   "execution_count": 13,
   "id": "reported-ebony",
   "metadata": {
    "execution": {
     "iopub.execute_input": "2021-04-01T07:03:53.426366Z",
     "iopub.status.busy": "2021-04-01T07:03:53.425587Z",
     "iopub.status.idle": "2021-04-01T07:03:53.559733Z",
     "shell.execute_reply": "2021-04-01T07:03:53.560149Z"
    },
    "papermill": {
     "duration": 1.187964,
     "end_time": "2021-04-01T07:03:53.560290",
     "exception": false,
     "start_time": "2021-04-01T07:03:52.372326",
     "status": "completed"
    },
    "tags": []
   },
   "outputs": [
    {
     "data": {
      "text/plain": [
       "<matplotlib.legend.Legend at 0x7fb6882e7790>"
      ]
     },
     "execution_count": 13,
     "metadata": {},
     "output_type": "execute_result"
    },
    {
     "data": {
      "image/png": "[encoded data removed]",
      "text/plain": [
       "<Figure size 720x432 with 1 Axes>"
      ]
     },
     "metadata": {
      "needs_background": "light"
     },
     "output_type": "display_data"
    }
   ],
   "source": [
    "loss = history.history['loss']\n",
    "val_loss = history.history['val_loss']\n",
    "\n",
    "epochs = range(len(loss))\n",
    "\n",
    "fig = plt.figure(figsize=(10,6))\n",
    "plt.plot(epochs,loss,c=\"red\",label=\"Training\")\n",
    "plt.plot(epochs,val_loss,c=\"blue\",label=\"Validation\")\n",
    "plt.xlabel(\"Epochs\")\n",
    "plt.ylabel(\"Loss\")\n",
    "plt.legend()"
   ]
  },
  {
   "cell_type": "code",
   "execution_count": 14,
   "id": "smooth-washer",
   "metadata": {
    "execution": {
     "iopub.execute_input": "2021-04-01T07:03:55.551863Z",
     "iopub.status.busy": "2021-04-01T07:03:55.546668Z",
     "iopub.status.idle": "2021-04-01T07:03:55.664380Z",
     "shell.execute_reply": "2021-04-01T07:03:55.664796Z"
    },
    "papermill": {
     "duration": 1.125127,
     "end_time": "2021-04-01T07:03:55.665016",
     "exception": false,
     "start_time": "2021-04-01T07:03:54.539889",
     "status": "completed"
    },
    "tags": []
   },
   "outputs": [
    {
     "data": {
      "text/plain": [
       "<matplotlib.legend.Legend at 0x7fb712d07c90>"
      ]
     },
     "execution_count": 14,
     "metadata": {},
     "output_type": "execute_result"
    },
    {
     "data": {
      "image/png": "[encoded data removed]",
      "text/plain": [
       "<Figure size 720x432 with 1 Axes>"
      ]
     },
     "metadata": {
      "needs_background": "light"
     },
     "output_type": "display_data"
    }
   ],
   "source": [
    "acc = history.history['categorical_accuracy']\n",
    "val_acc = history.history['val_categorical_accuracy']\n",
    "\n",
    "epochs = range(len(acc))\n",
    "\n",
    "fig = plt.figure(figsize=(10,6))\n",
    "plt.plot(epochs,acc,c=\"red\",label=\"Training\")\n",
    "plt.plot(epochs,val_acc,c=\"blue\",label=\"Validation\")\n",
    "plt.xlabel(\"Epochs\")\n",
    "plt.ylabel(\"Accuracy\")\n",
    "plt.legend()"
   ]
  },
  {
   "cell_type": "markdown",
   "id": "jewish-window",
   "metadata": {
    "papermill": {
     "duration": 0.982922,
     "end_time": "2021-04-01T07:03:57.625403",
     "exception": false,
     "start_time": "2021-04-01T07:03:56.642481",
     "status": "completed"
    },
    "tags": []
   },
   "source": [
    "## Save the model\n",
    "\n",
    "We finally save the model in the standard TensorFlow 2 SavedModel format."
   ]
  },
  {
   "cell_type": "code",
   "execution_count": 15,
   "id": "british-tournament",
   "metadata": {
    "execution": {
     "iopub.execute_input": "2021-04-01T07:03:59.632492Z",
     "iopub.status.busy": "2021-04-01T07:03:59.631623Z",
     "iopub.status.idle": "2021-04-01T07:04:12.896074Z",
     "shell.execute_reply": "2021-04-01T07:04:12.921686Z"
    },
    "papermill": {
     "duration": 14.284334,
     "end_time": "2021-04-01T07:04:12.921922",
     "exception": false,
     "start_time": "2021-04-01T07:03:58.637588",
     "status": "completed"
    },
    "tags": []
   },
   "outputs": [],
   "source": [
    "model.save('plant_disease')"
   ]
  },
  {
   "cell_type": "code",
   "execution_count": null,
   "id": "536fdc7e",
   "metadata": {},
   "outputs": [],
   "source": [
    "# saving the entire model to working directory\n",
    "PATH = './plant-disease-model-complete.pth'\n",
    "torch.save(model, PATH)"
   ]
  }
 ],
 "metadata": {
  "kernelspec": {
   "display_name": "Python 3",
   "language": "python",
   "name": "python3"
  },
  "language_info": {
   "codemirror_mode": {
    "name": "ipython",
    "version": 3
   },
   "file_extension": ".py",
   "mimetype": "text/x-python",
   "name": "python",
   "nbconvert_exporter": "python",
   "pygments_lexer": "ipython3",
   "version": "3.7.9"
  },
  "papermill": {
   "default_parameters": {},
   "duration": 1905.616323,
   "end_time": "2021-04-01T07:04:16.707827",
   "environment_variables": {},
   "exception": null,
   "input_path": "__notebook__.ipynb",
   "output_path": "__notebook__.ipynb",
   "parameters": {},
   "start_time": "2021-04-01T06:32:31.091504",
   "version": "2.3.2"
  }
 },
 "nbformat": 4,
 "nbformat_minor": 5
}
